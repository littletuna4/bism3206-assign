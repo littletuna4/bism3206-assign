{
 "cells": [
  {
   "cell_type": "code",
   "execution_count": 1,
   "id": "6b118cac",
   "metadata": {},
   "outputs": [],
   "source": [
    "'''\n",
    "45325919, Anthony Cerqui\n",
    "https://github.com/littletuna4/bism3206-assign\n",
    "'''"
   ]
  },
  {
   "cell_type": "code",
   "execution_count": 2,
   "id": "4c4d1b78",
   "metadata": {},
   "outputs": [],
   "source": [
    "#Use this cell to import all the required libraries.\n",
    "# %pip install gensim colorama nltk scikit-learn matplotlib seaborn pandas numpy scipy<1.13 ipykernel openpyxl\n",
    "\n",
    "\n",
    "# Core\n",
    "import pandas as pd\n",
    "import numpy as np\n",
    "import matplotlib.pyplot as plt\n",
    "import seaborn as sns\n",
    "\n",
    "# NLP\n",
    "import nltk\n",
    "from nltk.corpus import stopwords\n",
    "from nltk.tokenize import word_tokenize\n",
    "import gensim\n",
    "import gensim.corpora as corpora\n",
    "from gensim.models.coherencemodel import CoherenceModel\n",
    "from gensim.models.doc2vec import Doc2Vec, TaggedDocument\n",
    "from sklearn.neural_network import MLPClassifier\n",
    "\n",
    "# Flavour\n",
    "from colorama import Fore, Style"
   ]
  },
  {
   "cell_type": "code",
   "execution_count": 3,
   "id": "a7ce1bb4",
   "metadata": {},
   "outputs": [],
   "source": [
    "#your work should only start with the following code\n",
    "df=pd.read_excel(\"Assignment_Data.xlsx\")"
   ]
  },
  {
   "cell_type": "markdown",
   "id": "138c61b4",
   "metadata": {},
   "source": [
    "#### <font color=\"red\"> When you are preparing your assignment, you can use as many cells as you want. However, before submitting, please ensure that you consolidate all the necessary codes for each section into a single cell according to the template requirements. Failing to follow the template will lead to a loss of marks."
   ]
  },
  {
   "cell_type": "markdown",
   "id": "e4f92cdd",
   "metadata": {},
   "source": [
    "# Data exploration"
   ]
  },
  {
   "cell_type": "markdown",
   "id": "ff404d62",
   "metadata": {
    "student_input": "exploration"
   },
   "source": [
    "_In this cell, in no more than 200 words, you can elaborate on the major understanding of data based on your data exploration._\n",
    "\n",
    "The dataset relates to social media data, containing information about news authors, headlines, tweets, and various metrics about user engagement and demographic details. It has a total of 134,198 entries across 16 features, without duplicate entries, indicating good data cleanliness in terms of redundancy. Several features have a significant amount of missing data, particularly user_following and user_country, which could impact analysis related to user demographics and behavior.\n",
    "\n",
    "The descriptive statistics reveal a highly skewed distribution in engagement metrics (post_replies, post_retweets, post_favourites, post_quotes), with most posts receiving zero engagement but a few outliers receiving extremely high interaction, suggesting viral behavior for a minority of posts. User metrics like user_followers, user_favourites, and user_tweets_count also display wide variances, indicating a diverse user base from minimally active to influential users.\n",
    "\n",
    "Misinformation is flagged in roughly half of the entries (mean=0.514), highlighting the dataset's utility for studying the spread and impact of misinformation across social platforms. The data includes a variety of unique authors, headlines, and tweets, which can be useful for textual analysis and pattern recognition in social media discussions. The significant presence of missing values, especially in demographic-related columns, suggests a need for careful handling and possibly imputation techniques for more robust analyses."
   ]
  },
  {
   "cell_type": "code",
   "execution_count": 4,
   "id": "f0417c0c",
   "metadata": {},
   "outputs": [
    {
     "name": "stdout",
     "output_type": "stream",
     "text": [
      "<class 'pandas.core.frame.DataFrame'>\n",
      "RangeIndex: 134198 entries, 0 to 134197\n",
      "Data columns (total 16 columns):\n",
      " #   Column                  Non-Null Count   Dtype  \n",
      "---  ------                  --------------   -----  \n",
      " 0   news_author             134198 non-null  object \n",
      " 1   news_headline           134130 non-null  object \n",
      " 2   related_tweet           134150 non-null  object \n",
      " 3   post_replies            134175 non-null  float64\n",
      " 4   post_retweets           134198 non-null  int64  \n",
      " 5   post_favourites         134198 non-null  int64  \n",
      " 6   post_quotes             134198 non-null  int64  \n",
      " 7   user_followers          134170 non-null  float64\n",
      " 8   user_following          44732 non-null   float64\n",
      " 9   user_friends            134103 non-null  float64\n",
      " 10  user_mentions           134143 non-null  float64\n",
      " 11  user_favourites         134170 non-null  float64\n",
      " 12  user_tweets_count       134166 non-null  float64\n",
      " 13  user_tweet_count_lists  134179 non-null  float64\n",
      " 14  user_country            68543 non-null   object \n",
      " 15  misinformation          134174 non-null  float64\n",
      "dtypes: float64(9), int64(3), object(4)\n",
      "memory usage: 16.4+ MB\n",
      "\u001b[1m\u001b[34mdf.head()\n",
      "\u001b[0m\n",
      "      news_author                                      news_headline  \\\n",
      "0    Jill Terreri  New York has passed \"the best paid family leav...   \n",
      "1  Madison Czopek  \"BUSTED: CDC Inflated COVID Numbers, Accused o...   \n",
      "2       Dan Clark  Some states hit hardest by opioid deaths \"have...   \n",
      "3       Dan Clark  \"When I saw corruption and sexual harassment c...   \n",
      "4  Ciara O'Rourke  The Eisenhower interstate system requires that...   \n",
      "\n",
      "                                       related_tweet  post_replies  \\\n",
      "0  .@JoeBiden is now praising Cuomo's accomplishm...           0.0   \n",
      "1  @MagicJordan702 @Moses13490917 @RagnaEyjadotti...           3.0   \n",
      "2  @KaatJim @TimFlannery2 Its a growing problem e...           0.0   \n",
      "3  .@QuinnipiacPoll: By a margin of 51% to 22%, v...           0.0   \n",
      "4  #fact The Eisenhower interstate system require...           0.0   \n",
      "\n",
      "   post_retweets  post_favourites  post_quotes  user_followers  \\\n",
      "0              1                0            0         35212.0   \n",
      "1              0                1            0           966.0   \n",
      "2              0                0            0           132.0   \n",
      "3              0                0            0         91911.0   \n",
      "4              0                3            0          4336.0   \n",
      "\n",
      "   user_following  user_friends  user_mentions  user_favourites  \\\n",
      "0             NaN        2292.0            1.0          39251.0   \n",
      "1             NaN        2890.0            4.0          22208.0   \n",
      "2             0.0         142.0            2.0          31714.0   \n",
      "3             NaN        1958.0            1.0           1082.0   \n",
      "4             NaN        4388.0            0.0          58026.0   \n",
      "\n",
      "   user_tweets_count  user_tweet_count_lists user_country  misinformation  \n",
      "0            39189.0                   612.0          NaN             1.0  \n",
      "1             2567.0                     5.0           US             0.0  \n",
      "2             6697.0                     0.0          NaN             1.0  \n",
      "3            15089.0                  1093.0           US             1.0  \n",
      "4            75756.0                    12.0           US             0.0  \n",
      "\u001b[1m\u001b[34mdf.info()\n",
      "\u001b[0m\n",
      "None\n",
      "\u001b[1m\u001b[34mdf.describe()\n",
      "\u001b[0m\n",
      "        post_replies  post_retweets  post_favourites    post_quotes  \\\n",
      "count  134175.000000  134198.000000    134198.000000  134198.000000   \n",
      "mean        1.914507       6.674354        27.572386       0.573406   \n",
      "std       122.051640     406.542579      1831.425703      28.436726   \n",
      "min         0.000000       0.000000         0.000000       0.000000   \n",
      "25%         0.000000       0.000000         0.000000       0.000000   \n",
      "50%         0.000000       0.000000         0.000000       0.000000   \n",
      "75%         1.000000       0.000000         1.000000       0.000000   \n",
      "max     42068.000000  126062.000000    460320.000000    5913.000000   \n",
      "\n",
      "       user_followers  user_following   user_friends  user_mentions  \\\n",
      "count    1.341700e+05    44732.000000  134103.000000  134143.000000   \n",
      "mean     1.129366e+04       22.064942    1892.996055       1.388757   \n",
      "std      4.375426e+05      119.806628    6994.494661       1.471552   \n",
      "min      0.000000e+00        0.000000       0.000000       0.000000   \n",
      "25%      7.000000e+01        0.000000     168.000000       0.000000   \n",
      "50%      3.540000e+02        0.000000     567.000000       1.000000   \n",
      "75%      1.572000e+03        0.000000    1726.500000       2.000000   \n",
      "max      1.306019e+08      999.000000  586901.000000      12.000000   \n",
      "\n",
      "       user_favourites  user_tweets_count  user_tweet_count_lists  \\\n",
      "count     1.341700e+05       1.341660e+05           134179.000000   \n",
      "mean      3.298412e+04       3.419925e+04               73.306136   \n",
      "std       6.878416e+04       7.510900e+04             1083.350610   \n",
      "min       0.000000e+00       1.000000e+00                0.000000   \n",
      "25%       1.356000e+03       3.045000e+03                0.000000   \n",
      "50%       8.380000e+03       1.101900e+04                2.000000   \n",
      "75%       3.353300e+04       3.357875e+04               11.000000   \n",
      "max       1.765080e+06       2.958918e+06           222193.000000   \n",
      "\n",
      "       misinformation  \n",
      "count   134174.000000  \n",
      "mean         0.514049  \n",
      "std          0.499804  \n",
      "min          0.000000  \n",
      "25%          0.000000  \n",
      "50%          1.000000  \n",
      "75%          1.000000  \n",
      "max          1.000000  \n",
      "\u001b[1m\u001b[34mdf.columns\n",
      "\u001b[0m\n",
      "Index(['news_author', 'news_headline', 'related_tweet', 'post_replies',\n",
      "       'post_retweets', 'post_favourites', 'post_quotes', 'user_followers',\n",
      "       'user_following', 'user_friends', 'user_mentions', 'user_favourites',\n",
      "       'user_tweets_count', 'user_tweet_count_lists', 'user_country',\n",
      "       'misinformation'],\n",
      "      dtype='object')\n",
      "\u001b[1m\u001b[34mdf.shape\n",
      "\u001b[0m\n",
      "(134198, 16)\n",
      "\u001b[1m\u001b[34mdf.isnull().sum()\n",
      "\u001b[0m\n",
      "news_author                   0\n",
      "news_headline                68\n",
      "related_tweet                48\n",
      "post_replies                 23\n",
      "post_retweets                 0\n",
      "post_favourites               0\n",
      "post_quotes                   0\n",
      "user_followers               28\n",
      "user_following            89466\n",
      "user_friends                 95\n",
      "user_mentions                55\n",
      "user_favourites              28\n",
      "user_tweets_count            32\n",
      "user_tweet_count_lists       19\n",
      "user_country              65655\n",
      "misinformation               24\n",
      "dtype: int64\n",
      "\u001b[1m\u001b[34mdf.duplicated().sum()\n",
      "\u001b[0m\n",
      "0\n",
      "\u001b[1m\u001b[34mdf.nunique()\n",
      "\u001b[0m\n",
      "news_author                  161\n",
      "news_headline               1058\n",
      "related_tweet             134150\n",
      "post_replies                 273\n",
      "post_retweets                540\n",
      "post_favourites              936\n",
      "post_quotes                  182\n",
      "user_followers             14441\n",
      "user_following               852\n",
      "user_friends               10056\n",
      "user_mentions                 13\n",
      "user_favourites            49371\n",
      "user_tweets_count          49319\n",
      "user_tweet_count_lists      1979\n",
      "user_country                   2\n",
      "misinformation                 2\n",
      "dtype: int64\n"
     ]
    }
   ],
   "source": [
    "#Use this cell for data exploration.\n",
    "\n",
    "def deco(a_string):\n",
    "  return Style.BRIGHT+Fore.BLUE+a_string+Style.RESET_ALL\n",
    "\n",
    "\n",
    "  \n",
    "print(\n",
    "    deco(\"df.head()\\n\"),df.head(),\n",
    "    deco(\"df.info()\\n\"),df.info(),\n",
    "    deco(\"df.describe()\\n\"),df.describe(),\n",
    "    deco(\"df.columns\\n\"),df.columns,\n",
    "    deco(\"df.shape\\n\"),df.shape,\n",
    "    deco(\"df.isnull().sum()\\n\"),df.isnull().sum(),\n",
    "    deco(\"df.duplicated().sum()\\n\"),df.duplicated().sum(),\n",
    "    deco(\"df.nunique()\\n\"),df.nunique(),\n",
    "    sep=\"\\n\"\n",
    ")\n",
    "\n"
   ]
  },
  {
   "cell_type": "markdown",
   "id": "cf2be8f6",
   "metadata": {},
   "source": [
    "# Text preparation"
   ]
  },
  {
   "cell_type": "markdown",
   "id": "df251b9d",
   "metadata": {
    "student_input": "preparation"
   },
   "source": [
    "In this cell, in no more than 150 words, you can elaborate on the the innovativeness and depth of your work on text preparation."
   ]
  },
  {
   "cell_type": "code",
   "execution_count": 5,
   "id": "310e25da",
   "metadata": {},
   "outputs": [
    {
     "name": "stderr",
     "output_type": "stream",
     "text": [
      "[nltk_data] Downloading package punkt to\n",
      "[nltk_data]     C:\\Users\\seems\\AppData\\Roaming\\nltk_data...\n",
      "[nltk_data]   Unzipping tokenizers\\punkt.zip.\n"
     ]
    },
    {
     "data": {
      "text/plain": [
       "True"
      ]
     },
     "execution_count": 5,
     "metadata": {},
     "output_type": "execute_result"
    }
   ],
   "source": [
    "#Use this cell for text preparation.\n",
    "\n",
    "# Tokenise the words using punkt\n",
    "nltk.download('punkt')\n",
    "\n",
    "'''\n",
    "Lowercasing:\n",
    "We can remove the case sensitivity of the text by converting all the words to lowercase.\n",
    "'''\n",
    "\n",
    "'''\n",
    "Stopword removal\n",
    "We can remove unimportant words to reduce the computation load and improve the potency of the training data\n",
    "'''\n",
    "\n",
    "'''\n",
    "Punctuation and special character removal\n",
    "Much like stopword removal, this technique is good for omitting unimportant data.\n",
    "'''\n",
    "\n",
    "'''\n",
    "stemming\n",
    "Stemming is a technique used to reduce words to their root form.\n",
    "'''\n",
    "\n",
    "'''\n",
    "lemmatization\n",
    "lemmatization is another technique used to reduce words to their root form.\n",
    "'''\n",
    "\n",
    "'''\n",
    "Bag Of words\n",
    "The bag of words model is a simple model that represents text data as a bag of words.\n",
    "It ignores order and grammar, and only considers the frequency of words in the text - it also serves as\n",
    "the input to TLF-IDF and Word2Vec models.\n",
    "'''\n",
    "\n",
    "'''\n",
    "TFIDF -\n",
    "TFIDF is a measure of how important a word is in a document.\n",
    "It is calculated by multiplying the term frequency of a word in a document by the\n",
    "inverse document frequency of the word across all documents.\n",
    "'''\n",
    "\n",
    "'''\n",
    "Dimensionality Reduction\n",
    "Dimensionality reduction is a technique used to reduce the number of features in a dataset.\n",
    "This reduces the computational load at the expense of some information loss.\n",
    "'''\n",
    "\n"
   ]
  },
  {
   "cell_type": "markdown",
   "id": "1e5d933c",
   "metadata": {},
   "source": [
    "# Feature engineering"
   ]
  },
  {
   "cell_type": "markdown",
   "id": "07291805",
   "metadata": {
    "student_input": "feature_engineering"
   },
   "source": [
    "In this cell, in no more than 150 words, you can elaborate on the the innovativeness of your work on feature generation."
   ]
  },
  {
   "cell_type": "markdown",
   "id": "ddefd37e",
   "metadata": {},
   "source": [
    "##### Feature 1 generation"
   ]
  },
  {
   "cell_type": "code",
   "execution_count": 11,
   "id": "5208f70b",
   "metadata": {},
   "outputs": [],
   "source": [
    "#Use this cell for text feature_1 generation.\n",
    "\n",
    "'''\n",
    "Vadar sentiment\n",
    "\n",
    "'''\n",
    "\n",
    "\n",
    "'''\n",
    "LDA (Latent Dirichlet Allocation)\n",
    "\n",
    "'''\n",
    "\n",
    "\n",
    "'''\n",
    "Descision Tree/Random forest\n",
    "\n",
    "'''\n",
    "\n",
    "'''\n",
    "POS Tagging\n",
    "Considers Grammatical features of words\n",
    "'''"
   ]
  },
  {
   "cell_type": "markdown",
   "id": "6310d17e",
   "metadata": {},
   "source": [
    ".\n",
    ".\n",
    "."
   ]
  },
  {
   "cell_type": "markdown",
   "id": "fe5c39cc",
   "metadata": {},
   "source": [
    "##### Feature N generation"
   ]
  },
  {
   "cell_type": "code",
   "execution_count": 13,
   "id": "2890778a",
   "metadata": {},
   "outputs": [],
   "source": [
    "#Use this cell for text feature_N generation."
   ]
  },
  {
   "cell_type": "markdown",
   "id": "2b4097ba",
   "metadata": {},
   "source": [
    "# Model Development\n",
    "#### <font color=\"red\">You must remove this section from your notebook before submission\n",
    "<font color=\"black\">This section is for you to work and develop any models you choose. <br>When you have found the best performing model, you should move it to the **Model building & evaluation** section below."
   ]
  },
  {
   "cell_type": "code",
   "execution_count": 11,
   "id": "70e8ba2c",
   "metadata": {},
   "outputs": [],
   "source": [
    "#Use this cell for developing or evaluating model_1."
   ]
  },
  {
   "cell_type": "markdown",
   "id": "9894c280",
   "metadata": {},
   "source": [
    ".\n",
    ".\n",
    "."
   ]
  },
  {
   "cell_type": "code",
   "execution_count": null,
   "id": "928cf614",
   "metadata": {},
   "outputs": [],
   "source": [
    "#Use this cell for developing or evaluating model_N."
   ]
  },
  {
   "cell_type": "markdown",
   "id": "f3b40da3",
   "metadata": {},
   "source": [
    "# Model building & evaluation\n",
    "Once you have found the most optimal model, you should only show the model building and evaluation here!"
   ]
  },
  {
   "cell_type": "markdown",
   "id": "416ae4ac",
   "metadata": {
    "student_input": "building_evaluation"
   },
   "source": [
    "In this cell, in no more than 300 words, you can elaborate on development and performance of your best model."
   ]
  },
  {
   "cell_type": "code",
   "execution_count": null,
   "id": "0c7d684c",
   "metadata": {},
   "outputs": [],
   "source": [
    "#Use this cell for the best models building & evaluation."
   ]
  }
 ],
 "metadata": {
  "kernelspec": {
   "display_name": "Python 3 (ipykernel)",
   "language": "python",
   "name": "python3"
  },
  "language_info": {
   "codemirror_mode": {
    "name": "ipython",
    "version": 3
   },
   "file_extension": ".py",
   "mimetype": "text/x-python",
   "name": "python",
   "nbconvert_exporter": "python",
   "pygments_lexer": "ipython3",
   "version": "3.11.9"
  }
 },
 "nbformat": 4,
 "nbformat_minor": 5
}
